{
 "cells": [
  {
   "cell_type": "markdown",
   "metadata": {},
   "source": [
    "###### cse-2271035023-kavya"
   ]
  },
  {
   "cell_type": "markdown",
   "metadata": {},
   "source": [
    "###### question1:"
   ]
  },
  {
   "cell_type": "markdown",
   "metadata": {},
   "source": [
    "[Reverse] Copy the contents of a text file into another, printing the reversed version of each input line"
   ]
  },
  {
   "cell_type": "code",
   "execution_count": 1,
   "metadata": {},
   "outputs": [
    {
     "name": "stdout",
     "output_type": "stream",
     "text": [
      "original file data\n",
      "\n",
      "Hello Everyone !!!\n",
      "How ar u doing?\n",
      "stay home!!!!\n",
      "How ar u doing?\n",
      "stay home!!!!  python class for programming\n",
      "\n",
      "coppied file data in reverse order\n",
      "\n",
      "stay home!!!!  python class for programming\n",
      "How ar u doing?\n",
      "stay home!!!!\n",
      "How ar u doing?\n",
      "Hello Everyone !!!\n"
     ]
    }
   ],
   "source": [
    "new_file = open(\"copy.txt\", \"w\")\n",
    "with open(\"sample.txt\", \"r\") as f:\n",
    "    new_file.write(f.read())\n",
    "    new_file.close()\n",
    "    print(\"original file data\\n\")\n",
    "    for line in (list(open(\"sample.txt\"))):\n",
    "        print(line.strip())\n",
    "    print(\"\\ncoppied file data in reverse order\\n\")\n",
    "    for line in reversed(list(open(\"copy.txt\"))):\n",
    "        print(line.rstrip())"
   ]
  },
  {
   "cell_type": "markdown",
   "metadata": {},
   "source": [
    "###### question2:"
   ]
  },
  {
   "cell_type": "markdown",
   "metadata": {},
   "source": [
    "[Number Lines] Print the contents of a file line by line putting a line number for each line.\n"
   ]
  },
  {
   "cell_type": "code",
   "execution_count": 2,
   "metadata": {},
   "outputs": [
    {
     "name": "stdout",
     "output_type": "stream",
     "text": [
      "1 . Hello Everyone !!!\n",
      "\n",
      "2 . How ar u doing?\n",
      "\n",
      "3 . stay home!!!!\n",
      "\n",
      "4 . How ar u doing?\n",
      "\n",
      "5 . stay home!!!!  python class for programming\n"
     ]
    }
   ],
   "source": [
    "open_file = open('sample.txt', 'r')\n",
    "lines = open_file.readlines()\n",
    "i = 1\n",
    "for line in lines:\n",
    "    print(i,'.',line)\n",
    "    i += 1\n",
    "open_file.close()"
   ]
  },
  {
   "cell_type": "markdown",
   "metadata": {},
   "source": [
    "###### Question3:"
   ]
  },
  {
   "cell_type": "markdown",
   "metadata": {},
   "source": [
    "[deDuplicate] Avoiding Duplicates\n",
    "In many situations, lists should not contain duplicate elements. For example, a pack of cards should not contain the same card twice. Define a function\n",
    "duplicates (list): bool\n",
    "which returns True if its argument contains duplicate elements.\n",
    "\t\tduplicates [1,2,3,4,5]\n",
    "\t\t\tFalse\n",
    "\t\tduplicates [1,2,3,2]\n",
    "\t\t\tTrue\n"
   ]
  },
  {
   "cell_type": "code",
   "execution_count": 3,
   "metadata": {},
   "outputs": [
    {
     "name": "stdout",
     "output_type": "stream",
     "text": [
      "enter no.of 4\n",
      " 1\n",
      " 2\n",
      " 3\n",
      " 5\n",
      "[1, 2, 3, 5]\n"
     ]
    },
    {
     "data": {
      "text/plain": [
       "False"
      ]
     },
     "execution_count": 3,
     "metadata": {},
     "output_type": "execute_result"
    }
   ],
   "source": [
    "def removeduplicates(list1):  \n",
    "    for i in list1:\n",
    "        if list1.count(i) > 1:\n",
    "            return True\n",
    "    return False\n",
    "n = int(input(\"enter no.of \"))\n",
    "list1 = []\n",
    "for i in range(0,n):\n",
    "    list1.append(int(input(\" \")))\n",
    "print(list1)\n",
    "removeduplicates(list1)"
   ]
  },
  {
   "cell_type": "markdown",
   "metadata": {},
   "source": [
    "###### Question4:\n"
   ]
  },
  {
   "cell_type": "markdown",
   "metadata": {},
   "source": [
    "\n",
    "[fractions.py] Develop a package for fractions. Develop a module that performs operations on fractions. It should have methods to create fractions, perform operations on two fractions, simplify a fraction, and print a fraction. You should use that package and illustrate those operations.\n"
   ]
  },
  {
   "cell_type": "code",
   "execution_count": 1,
   "metadata": {},
   "outputs": [
    {
     "name": "stdout",
     "output_type": "stream",
     "text": [
      "-0.25\n",
      "0.8333333333333334\n",
      "0.5\n"
     ]
    }
   ],
   "source": [
    "import fractions as fr\n",
    "print(fr.sub(2/4,3/4))\n",
    "print(fr.mul(2/4,5/3))\n",
    "print(fr.div(2/4,4/4))"
   ]
  },
  {
   "cell_type": "markdown",
   "metadata": {},
   "source": [
    "###### question5:"
   ]
  },
  {
   "cell_type": "markdown",
   "metadata": {},
   "source": [
    "[Permutations] \n",
    "A permutation of a list is another list with the same elements, but in a possibly different order. For example, [1,2,1] is a permutation of [2,1,1], but not of [1,2,2]. Write a function\n",
    "    \t\tisPermutation (list1, list2): bool\n",
    "that returns True if its arguments are permutations of each other.\n"
   ]
  },
  {
   "cell_type": "code",
   "execution_count": 2,
   "metadata": {},
   "outputs": [
    {
     "name": "stdout",
     "output_type": "stream",
     "text": [
      " 5\n",
      " 1\n",
      " 23\n",
      "[5, 1, 23]\n",
      " 3\n",
      " 4\n",
      " 5\n",
      "[3, 4, 5]\n"
     ]
    },
    {
     "data": {
      "text/plain": [
       "False"
      ]
     },
     "execution_count": 2,
     "metadata": {},
     "output_type": "execute_result"
    }
   ],
   "source": [
    "def Permutations(list1,list2):\n",
    "    sum1, sum2, mul1, mul2 = 0, 0, 1, 1\n",
    "    n = len(list1)\n",
    "    m = len(list2)\n",
    "    for i in range(n) : \n",
    "        sum1 += list1[i] \n",
    "        mul1 *= list1[i]\n",
    "    for i in range(m) : \n",
    "        sum2 += list2[i] \n",
    "        mul2 *= list2[i] \n",
    "    if((sum1 == sum2) and (mul1 == mul2)):\n",
    "        return True\n",
    "    else:\n",
    "        return False\n",
    "list1 = []\n",
    "for i in range(0,3):\n",
    "    list1.append(int(input(\" \"))) \n",
    "print(list1)    \n",
    "list2 = []\n",
    "for i in range(0,3):\n",
    "    list2.append(int(input(\" \")))\n",
    "print(list2)\n",
    "Permutations(list1, list2)"
   ]
  },
  {
   "cell_type": "code",
   "execution_count": null,
   "metadata": {},
   "outputs": [],
   "source": []
  }
 ],
 "metadata": {
  "kernelspec": {
   "display_name": "Python 3",
   "language": "python",
   "name": "python3"
  },
  "language_info": {
   "codemirror_mode": {
    "name": "ipython",
    "version": 3
   },
   "file_extension": ".py",
   "mimetype": "text/x-python",
   "name": "python",
   "nbconvert_exporter": "python",
   "pygments_lexer": "ipython3",
   "version": "3.7.4"
  }
 },
 "nbformat": 4,
 "nbformat_minor": 2
}
