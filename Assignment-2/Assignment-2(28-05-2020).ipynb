{
 "cells": [
  {
   "cell_type": "markdown",
   "metadata": {},
   "source": [
    "# cse-221710315023-kavya"
   ]
  },
  {
   "cell_type": "markdown",
   "metadata": {},
   "source": [
    "# Question 1:"
   ]
  },
  {
   "cell_type": "markdown",
   "metadata": {},
   "source": [
    "### Accept a string from the user and count no.of vowels,consonants and special characters\n",
    "\n"
   ]
  },
  {
   "cell_type": "code",
   "execution_count": 1,
   "metadata": {},
   "outputs": [
    {
     "name": "stdout",
     "output_type": "stream",
     "text": [
      "Enter stringk@vy@\n",
      "Vowels: 0\n",
      "Consonant: 3\n",
      "Special Character: 2\n"
     ]
    }
   ],
   "source": [
    "s = input(\"Enter string\")\n",
    "vowels = 0\n",
    "consonant = 0\n",
    "specialChar = 0\n",
    "digit = 0\n",
    "for i in range(0, len(s)): \n",
    "  ch = s[i]  \n",
    "  if( (ch >= 'a' and ch <= 'z') or (ch >= 'A' and ch <= 'Z') ):  \n",
    "    ch = ch.lower() \n",
    "    if (ch == 'a' or ch == 'e' or ch == 'i' or ch == 'o' or ch == 'u'): \n",
    "      vowels += 1\n",
    "    else: \n",
    "      consonant += 1\n",
    "  elif (ch >= '0' and ch <= '9'): \n",
    "    digit += 1\n",
    "  else: \n",
    "    specialChar += 1\n",
    "print(\"Vowels:\", vowels) \n",
    "print(\"Consonant:\", consonant)   \n",
    "print(\"Special Character:\", specialChar)  "
   ]
  },
  {
   "cell_type": "markdown",
   "metadata": {},
   "source": [
    "## Question 2:"
   ]
  },
  {
   "cell_type": "markdown",
   "metadata": {},
   "source": [
    "### count the no.of pairs of a in the given string(Infosys InfyTQ)\n",
    "### string → \"abbaaccbbaaa\"\n",
    "### output → 2"
   ]
  },
  {
   "cell_type": "code",
   "execution_count": 2,
   "metadata": {},
   "outputs": [
    {
     "name": "stdout",
     "output_type": "stream",
     "text": [
      "Enter stringabbaaccbbaaa\n"
     ]
    },
    {
     "data": {
      "text/plain": [
       "2"
      ]
     },
     "execution_count": 2,
     "metadata": {},
     "output_type": "execute_result"
    }
   ],
   "source": [
    "s = input(\"Enter string\")\n",
    "s.count(\"aa\")"
   ]
  },
  {
   "cell_type": "markdown",
   "metadata": {},
   "source": [
    "## Question 3:"
   ]
  },
  {
   "cell_type": "markdown",
   "metadata": {},
   "source": [
    "### Test case1:\n",
    "### string → \"((((()()()))))()\"\n",
    "### output → 8\n",
    "### Test case2:\n",
    "### string → \"((()))()\"\n",
    "### output → 4"
   ]
  },
  {
   "cell_type": "code",
   "execution_count": 3,
   "metadata": {},
   "outputs": [
    {
     "name": "stdout",
     "output_type": "stream",
     "text": [
      "Enter string((((()()()))))()\n",
      "8\n"
     ]
    }
   ],
   "source": [
    "s = input(\"Enter string\")\n",
    "co=0\n",
    "cc=0\n",
    "for i in range(0,len(s)):\n",
    "  if s[i]==')':\n",
    "    cc+=1\n",
    "  else:\n",
    "    co+=1;\n",
    "if(co<=cc):\n",
    "  print(co)\n",
    "else:\n",
    "  print(cc)"
   ]
  },
  {
   "cell_type": "markdown",
   "metadata": {},
   "source": [
    "## Question 4:"
   ]
  },
  {
   "cell_type": "markdown",
   "metadata": {},
   "source": [
    "### Read the input as two limits and Print the output as Palindrome count between the two limits\n",
    "### Example 1: Input : 1 10 Output : 9\n",
    "### Example 2: Input : 1 100 Output : 18"
   ]
  },
  {
   "cell_type": "code",
   "execution_count": 4,
   "metadata": {},
   "outputs": [
    {
     "name": "stdout",
     "output_type": "stream",
     "text": [
      "Enter first limit1\n",
      "Enter second limit10\n",
      "9\n"
     ]
    }
   ],
   "source": [
    "n1 = int(input(\"Enter first limit\"))\n",
    "n2 = int(input(\"Enter second limit\"))\n",
    "c=0\n",
    "for i in range(n1,n2):\n",
    "  n = i\n",
    "  if str(n) == str(n)[::-1]:\n",
    "    c += 1\n",
    "print(c)"
   ]
  },
  {
   "cell_type": "markdown",
   "metadata": {},
   "source": [
    "## Question 5:"
   ]
  },
  {
   "cell_type": "markdown",
   "metadata": {},
   "source": [
    "### Accept a number as an input and check whether the given number is palindrome or not\n",
    "### if it is a palindrome number print the number on the screen\n",
    "### if it is not a palindrome number reverse that number and add it to previous number repeat this until will get a palindrome number and print that palindrome number on the screen\n",
    "### input: 127\n",
    "### output: 848"
   ]
  },
  {
   "cell_type": "code",
   "execution_count": 5,
   "metadata": {},
   "outputs": [
    {
     "name": "stdout",
     "output_type": "stream",
     "text": [
      "Enter value128\n",
      "949\n"
     ]
    }
   ],
   "source": [
    "n =int(input(\"Enter value\"))\n",
    "if str(n) == str(n)[::-1]:\n",
    "  print(n)\n",
    "else:\n",
    "  n1 = n\n",
    "  n2 = n\n",
    "  while str(n1)!=str(n1)[::-1]:\n",
    "    rev = 0\n",
    "    while n2!=0:\n",
    "      rem = n2 % 10\n",
    "      rev = rev * 10 + rem\n",
    "      n2//=10\n",
    "    n1 = n1 + rev\n",
    "    n2 = n1\n",
    "  print(n1)"
   ]
  },
  {
   "cell_type": "markdown",
   "metadata": {},
   "source": [
    "## Question 6:"
   ]
  },
  {
   "cell_type": "markdown",
   "metadata": {},
   "source": [
    "### input:orange → output : puboif"
   ]
  },
  {
   "cell_type": "code",
   "execution_count": 6,
   "metadata": {},
   "outputs": [
    {
     "name": "stdout",
     "output_type": "stream",
     "text": [
      "Enter string orange\n",
      "puboif"
     ]
    }
   ],
   "source": [
    "s = input(\"Enter string \")\n",
    "for i in range(0,len(s)):\n",
    "  ch = s[i].lower()\n",
    "  if ch=='a':\n",
    "    print(\"b\",end=\"\")\n",
    "  elif ch=='e':\n",
    "    print(\"f\",end=\"\")\n",
    "  elif ch=='i':\n",
    "    print(\"j\",end=\"\")\n",
    "  elif ch=='o':\n",
    "    print(\"p\",end=\"\")\n",
    "  elif ch=='u':\n",
    "    print(\"v\",end=\"\")\n",
    "  elif(ch>'a' and ch<'e'):\n",
    "    print(\"e\",end=\"\")\n",
    "  elif(ch>'e' and ch<'i'):\n",
    "    print(\"i\",end=\"\")\n",
    "  elif(ch>'i' and ch<'o'):\n",
    "    print(\"o\",end=\"\")\n",
    "  elif(ch>'o' and ch<'u'):\n",
    "    print(\"u\",end=\"\")\n",
    "  else:\n",
    "    print(\"a\",end=\"\")"
   ]
  },
  {
   "cell_type": "markdown",
   "metadata": {},
   "source": [
    "## Question 7:"
   ]
  },
  {
   "cell_type": "markdown",
   "metadata": {},
   "source": [
    "### Accept input as a string and display sum of digits as the output\n",
    "\n",
    "### input:Appli123cation456\n",
    "### Output: 21"
   ]
  },
  {
   "cell_type": "code",
   "execution_count": 7,
   "metadata": {},
   "outputs": [
    {
     "name": "stdout",
     "output_type": "stream",
     "text": [
      "Enter stringAppli123cation456\n",
      "21\n"
     ]
    }
   ],
   "source": [
    "s = input(\"Enter string\")\n",
    "sumdigit = 0\n",
    "for x in s:\n",
    "  if x.isdigit() == True:\n",
    "    z = int(x)\n",
    "    sumdigit = sumdigit + z\n",
    "print(sumdigit)"
   ]
  },
  {
   "cell_type": "markdown",
   "metadata": {},
   "source": [
    "## Question 8:"
   ]
  },
  {
   "cell_type": "markdown",
   "metadata": {},
   "source": [
    "### Write a program to prompt for a score between 0.0 and 1.0. If the score is out of range, print an error. If the score is between 0.0 and 1.0, print a grade using the following table:\n",
    "\n",
    "### Score Grade\n",
    "### >= 0.9 A\n",
    "### >= 0.8 B\n",
    "### >= 0.7 C\n",
    "### >= 0.6 D\n",
    "### < 0.6 F\n",
    "### If the user enters a value out of range, print a suitable error message and exit. For the test, enter a score of 0.85"
   ]
  },
  {
   "cell_type": "code",
   "execution_count": 8,
   "metadata": {},
   "outputs": [
    {
     "name": "stdout",
     "output_type": "stream",
     "text": [
      "Enter value0.85\n",
      "B\n"
     ]
    }
   ],
   "source": [
    "n = float(input(\"Enter value\"))\n",
    "if n<=1.0 and n>=0.9:\n",
    "  print(\"A\")\n",
    "elif n<0.9 and n>=0.8:\n",
    "  print(\"B\")\n",
    "elif n<0.8 and n>=0.7:\n",
    "  print(\"C\")\n",
    "elif n<0.7 and n>=0.6:\n",
    "  print(\"D\")\n",
    "elif n<0.6 and n>=0.0:\n",
    "  print(\"F\")\n",
    "else:\n",
    "  print(\"Value out of range\")\n",
    "\n"
   ]
  },
  {
   "cell_type": "markdown",
   "metadata": {},
   "source": [
    "## Question 9:"
   ]
  },
  {
   "cell_type": "markdown",
   "metadata": {},
   "source": [
    "Write a Python program which iterates the integers from 1 to 50. For multiples of three print \"Fizz\" instead of the number and for the multiples of five print \"Buzz\". For numbers which are multiples of both three and five print \"FizzBuzz\".\n",
    "\n",
    "Sample Output :\n",
    "fizzbuzz\n",
    "\n",
    "1\n",
    "2\n",
    "\n",
    "fizz\n",
    "4\n",
    "\n",
    "buzz"
   ]
  },
  {
   "cell_type": "code",
   "execution_count": 9,
   "metadata": {},
   "outputs": [
    {
     "name": "stdout",
     "output_type": "stream",
     "text": [
      "FizzBuzz\n",
      "1\n",
      "2\n",
      "Fizz\n",
      "4\n",
      "Buzz\n",
      "Fizz\n",
      "7\n",
      "8\n",
      "Fizz\n",
      "Buzz\n",
      "11\n",
      "Fizz\n",
      "13\n",
      "14\n",
      "FizzBuzz\n",
      "16\n",
      "17\n",
      "Fizz\n",
      "19\n",
      "Buzz\n",
      "Fizz\n",
      "22\n",
      "23\n",
      "Fizz\n",
      "Buzz\n",
      "26\n",
      "Fizz\n",
      "28\n",
      "29\n",
      "FizzBuzz\n",
      "31\n",
      "32\n",
      "Fizz\n",
      "34\n",
      "Buzz\n",
      "Fizz\n",
      "37\n",
      "38\n",
      "Fizz\n",
      "Buzz\n",
      "41\n",
      "Fizz\n",
      "43\n",
      "44\n",
      "FizzBuzz\n",
      "46\n",
      "47\n",
      "Fizz\n",
      "49\n",
      "Buzz\n"
     ]
    }
   ],
   "source": [
    "for i in range(0,51):\n",
    "  if(i%3==0 and i%5==0):\n",
    "    print(\"FizzBuzz\")\n",
    "  elif i%3==0:\n",
    "    print(\"Fizz\")\n",
    "  elif i%5==0:\n",
    "    print(\"Buzz\")\n",
    "  else:\n",
    "    print(i)\n"
   ]
  },
  {
   "cell_type": "markdown",
   "metadata": {},
   "source": [
    "## Question 10:"
   ]
  },
  {
   "cell_type": "markdown",
   "metadata": {},
   "source": [
    "Write a Python program to find the median of three values.\n",
    "\n",
    "Expected Output:\n",
    "Input first number: 26\n",
    "\n",
    "Input second number: 15\n",
    "Input third number: 29\n",
    "\n",
    "The median is 26"
   ]
  },
  {
   "cell_type": "code",
   "execution_count": 11,
   "metadata": {},
   "outputs": [
    {
     "name": "stdout",
     "output_type": "stream",
     "text": [
      "Input first number: 26\n",
      "Input second number: 15\n",
      "Input third number: 29\n",
      "The median is 26\n"
     ]
    }
   ],
   "source": [
    "a = int(input(\"Input first number: \"))\n",
    "b = int(input(\"Input second number: \"))\n",
    "c = int(input(\"Input third number: \"))\n",
    "if a > b:\n",
    "    if a < c:\n",
    "        median = a\n",
    "    elif b > c:\n",
    "        median = b\n",
    "    else:\n",
    "        median = c\n",
    "else:\n",
    "    if a > c:\n",
    "        median = a\n",
    "    elif b < c:\n",
    "        median = b\n",
    "    else:\n",
    "        median = c\n",
    "\n",
    "print(\"The median is\", median)"
   ]
  },
  {
   "cell_type": "code",
   "execution_count": null,
   "metadata": {},
   "outputs": [],
   "source": []
  }
 ],
 "metadata": {
  "kernelspec": {
   "display_name": "Python 3",
   "language": "python",
   "name": "python3"
  },
  "language_info": {
   "codemirror_mode": {
    "name": "ipython",
    "version": 3
   },
   "file_extension": ".py",
   "mimetype": "text/x-python",
   "name": "python",
   "nbconvert_exporter": "python",
   "pygments_lexer": "ipython3",
   "version": "3.7.4"
  }
 },
 "nbformat": 4,
 "nbformat_minor": 2
}
