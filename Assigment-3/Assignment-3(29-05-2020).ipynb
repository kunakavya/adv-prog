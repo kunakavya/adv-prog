{
 "cells": [
  {
   "cell_type": "markdown",
   "metadata": {},
   "source": [
    "Question 1: Create a function to find Factorial of a number using Recursion"
   ]
  },
  {
   "cell_type": "code",
   "execution_count": 1,
   "metadata": {},
   "outputs": [
    {
     "data": {
      "text/plain": [
       "120"
      ]
     },
     "execution_count": 1,
     "metadata": {},
     "output_type": "execute_result"
    }
   ],
   "source": [
    "def Factorial(n):\n",
    "    if n == 0 or n == 1:\n",
    "        return 1\n",
    "    else:\n",
    "        return n*Factorial(n-1)\n",
    "    \n",
    "Factorial(5)"
   ]
  },
  {
   "cell_type": "markdown",
   "metadata": {},
   "source": [
    "Question 2: Create a function and display ‘n’ Fibonacci numbers using Recursion"
   ]
  },
  {
   "cell_type": "code",
   "execution_count": 3,
   "metadata": {},
   "outputs": [
    {
     "data": {
      "text/plain": [
       "3"
      ]
     },
     "execution_count": 3,
     "metadata": {},
     "output_type": "execute_result"
    }
   ],
   "source": [
    "def recur_fibo(n):\n",
    "    if n == 1:\n",
    "        return 0\n",
    "    elif n == 2:\n",
    "        return 1\n",
    "    else:\n",
    "        return recur_fibo(n-1)+recur_fibo(n-2)\n",
    "    \n",
    "recur_fibo(5)"
   ]
  },
  {
   "cell_type": "markdown",
   "metadata": {},
   "source": [
    "Question 3: Print sum of list of elements without using sum() function"
   ]
  },
  {
   "cell_type": "code",
   "execution_count": 4,
   "metadata": {},
   "outputs": [
    {
     "name": "stdout",
     "output_type": "stream",
     "text": [
      "Sum of all elements in given list:  74\n"
     ]
    }
   ],
   "source": [
    "total = 0\n",
    " \n",
    "list1 = [11, 5, 17, 18, 23]  \n",
    "\n",
    "for ele in range(0, len(list1)): \n",
    "    total = total + list1[ele] \n",
    "  \n",
    " \n",
    "print(\"Sum of all elements in given list: \", total)"
   ]
  },
  {
   "cell_type": "markdown",
   "metadata": {},
   "source": [
    "Question 4: print only even numbers from the list"
   ]
  },
  {
   "cell_type": "code",
   "execution_count": 5,
   "metadata": {},
   "outputs": [
    {
     "name": "stdout",
     "output_type": "stream",
     "text": [
      "10 4 66 "
     ]
    }
   ],
   "source": [
    "list1 = [10, 21, 4, 45, 66, 93] \n",
    "  \n",
    "\n",
    "for num in list1: \n",
    "     \n",
    "    if num % 2 == 0: \n",
    "       print(num, end = \" \") "
   ]
  },
  {
   "cell_type": "markdown",
   "metadata": {},
   "source": [
    "Question 5: Write a Python program to get the smallest number from a list and display index of smallest element of the list"
   ]
  },
  {
   "cell_type": "code",
   "execution_count": 6,
   "metadata": {},
   "outputs": [
    {
     "name": "stdout",
     "output_type": "stream",
     "text": [
      "Smallest element is: 1\n",
      "the location is: 2\n"
     ]
    }
   ],
   "source": [
    "list1 = [10, 20, 1, 45, 99]  \n",
    "print(\"Smallest element is:\", min(list1)) \n",
    "print(\"the location is:\",list1.index(min(list1)))"
   ]
  },
  {
   "cell_type": "markdown",
   "metadata": {},
   "source": [
    "Question 6: Write a Python function that checks whether a passed string is palindrome or not"
   ]
  },
  {
   "cell_type": "code",
   "execution_count": 7,
   "metadata": {},
   "outputs": [
    {
     "name": "stdout",
     "output_type": "stream",
     "text": [
      "True\n"
     ]
    }
   ],
   "source": [
    "def isPalindrome(string):\n",
    "    left_pos = 0\n",
    "    right_pos = len(string) - 1\n",
    "\n",
    "    while right_pos >= left_pos:\n",
    "        if not string[left_pos] == string[right_pos]:\n",
    "            return False\n",
    "        left_pos += 1\n",
    "        right_pos -= 1\n",
    "    return True\n",
    "print(isPalindrome('madam'))"
   ]
  },
  {
   "cell_type": "markdown",
   "metadata": {},
   "source": [
    "\n",
    "Question 7: Write a Python program to count the number of even and odd numbers from a series of numbers. Sample numbers : numbers = [1, 2, 3, 4, 5, 6, 7, 8, 9] Expected Output : Number of even numbers : 4 Number of odd numbers : 5"
   ]
  },
  {
   "cell_type": "code",
   "execution_count": 8,
   "metadata": {},
   "outputs": [
    {
     "name": "stdout",
     "output_type": "stream",
     "text": [
      "Number of even numbers : 4\n",
      "Number of odd numbers : 5\n"
     ]
    }
   ],
   "source": [
    "numbers = (1, 2, 3, 4, 5, 6, 7, 8, 9)\n",
    "count_odd = 0\n",
    "count_even = 0\n",
    "for x in numbers:\n",
    "        if not x % 2:\n",
    "            count_even+=1\n",
    "        else:\n",
    "            count_odd+=1\n",
    "print(\"Number of even numbers :\",count_even)\n",
    "print(\"Number of odd numbers :\",count_odd)"
   ]
  },
  {
   "cell_type": "markdown",
   "metadata": {},
   "source": [
    "Question 8: Write a Python program that prints all the numbers from 0 to 6 except 3 and 6. Note : Use 'continue' statement. Expected Output : 0 1 2 4 5"
   ]
  },
  {
   "cell_type": "code",
   "execution_count": 10,
   "metadata": {},
   "outputs": [
    {
     "name": "stdout",
     "output_type": "stream",
     "text": [
      "0 1 2 4 5 \n",
      "\n"
     ]
    }
   ],
   "source": [
    "for x in range(6):\n",
    "    if (x == 3 or x==6):\n",
    "        continue\n",
    "    print(x,end=' ')\n",
    "print(\"\\n\")"
   ]
  },
  {
   "cell_type": "markdown",
   "metadata": {},
   "source": [
    "Question 9: Write a python function to check whether the given number is prime or not"
   ]
  },
  {
   "cell_type": "code",
   "execution_count": 11,
   "metadata": {},
   "outputs": [
    {
     "name": "stdout",
     "output_type": "stream",
     "text": [
      "11 is a prime number\n"
     ]
    }
   ],
   "source": [
    "num = 11\n",
    "  \n",
    "\n",
    "if num > 1: \n",
    "      \n",
    "    \n",
    "   for i in range(2, num): \n",
    "  \n",
    "       if (num % i) == 0: \n",
    "           print(num, \"is not a prime number\") \n",
    "           break\n",
    "   else: \n",
    "       print(num, \"is a prime number\") \n",
    "  \n",
    "else: \n",
    "   print(num, \"is not a prime number\") "
   ]
  },
  {
   "cell_type": "markdown",
   "metadata": {},
   "source": [
    "quention:10"
   ]
  },
  {
   "cell_type": "code",
   "execution_count": 12,
   "metadata": {},
   "outputs": [
    {
     "name": "stdout",
     "output_type": "stream",
     "text": [
      "enter a number12\n",
      "adam number\n"
     ]
    }
   ],
   "source": [
    "#adam number\n",
    "n = int(input(\"enter a number\"))\n",
    "if int(str(n**2)[::-1]) == int(str(n)[::-1])**2:\n",
    "    print(\"adam number\")\n",
    "else:\n",
    "    print(\"not an adam number\")"
   ]
  },
  {
   "cell_type": "code",
   "execution_count": null,
   "metadata": {},
   "outputs": [],
   "source": []
  }
 ],
 "metadata": {
  "kernelspec": {
   "display_name": "Python 3",
   "language": "python",
   "name": "python3"
  },
  "language_info": {
   "codemirror_mode": {
    "name": "ipython",
    "version": 3
   },
   "file_extension": ".py",
   "mimetype": "text/x-python",
   "name": "python",
   "nbconvert_exporter": "python",
   "pygments_lexer": "ipython3",
   "version": "3.7.4"
  }
 },
 "nbformat": 4,
 "nbformat_minor": 2
}
