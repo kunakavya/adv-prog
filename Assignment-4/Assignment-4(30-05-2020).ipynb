{
 "cells": [
  {
   "cell_type": "markdown",
   "metadata": {},
   "source": [
    "Question 1:\n",
    "Count the no.of words,no.of letters,no.of lines available in your file"
   ]
  },
  {
   "cell_type": "code",
   "execution_count": null,
   "metadata": {},
   "outputs": [],
   "source": [
    "\n",
    "f = open(\"sample.txt\",\"w\")\n",
    "f.write(\"Hello everyone:)This is machine learning and artificial intelligence wirh python\")\n",
    "f.close()\n"
   ]
  },
  {
   "cell_type": "code",
   "execution_count": null,
   "metadata": {},
   "outputs": [],
   "source": [
    "fname = input(\"Enter file name: \")\n",
    " \n",
    "num_words = 0\n",
    "num_lines =0\n",
    "num_letter=0\n",
    "with open(fname, 'r') as f:\n",
    "    for line in f:\n",
    "        words = line.split()\n",
    "        num_words += len(words)\n",
    "with open(fname, 'r') as f:\n",
    "    for line in f:\n",
    "        num_lines += 1\n",
    "with open(fname,'r') as f:\n",
    "    for line in f:\n",
    "        words=line.split()\n",
    "        for i in words:\n",
    "            \n",
    "                num_letter+=len(i)\n",
    "print(\"Number of lines:\")\n",
    "print(num_lines)\n",
    "print(\"Number of words:\")\n",
    "print(num_words)\n",
    "print(\"Number of letters:\")\n",
    "print(num_letter)"
   ]
  },
  {
   "cell_type": "markdown",
   "metadata": {},
   "source": [
    "Question 2:\n",
    "Copy the content of one file to another\n"
   ]
  },
  {
   "cell_type": "code",
   "execution_count": null,
   "metadata": {},
   "outputs": [],
   "source": [
    "f = open(\"sample.txt\",\"w\")\n",
    "f.write(\"AI and ML With Python,Advanced Programming,Data Science With Python,Full Stack\")\n",
    "f.close()\n",
    "f = open(\"sample.txt\",\"r\")\n",
    "data = f.read()\n",
    "print(data)\n",
    "f.close()\n",
    "f = open(\"sample1.txt\",\"w\")\n",
    "f.write(\"\")\n",
    "f.close()\n",
    "with open(\"sample.txt\") as f:\n",
    "    with open(\"sample1.txt\", \"w\") as f1:\n",
    "        for line in f:\n",
    "            f1.write(line)"
   ]
  },
  {
   "cell_type": "markdown",
   "metadata": {},
   "source": [
    "\n",
    "#Q3)Display the words starting with letter 'p'"
   ]
  },
  {
   "cell_type": "code",
   "execution_count": null,
   "metadata": {},
   "outputs": [],
   "source": [
    "\n",
    "Stat = 'python is a professional programming language'\n",
    "List = Stat.split()\n",
    "for s in List:\n",
    "    if s.startswith('p'):\n",
    "        print(s)"
   ]
  },
  {
   "cell_type": "markdown",
   "metadata": {},
   "source": [
    "\n",
    "\n",
    "#Q4)Rename and remove files"
   ]
  },
  {
   "cell_type": "code",
   "execution_count": null,
   "metadata": {},
   "outputs": [],
   "source": [
    "import os\n",
    "# Rename a file from sample1.txt to CoursesOpted.txt\n",
    "os.rename( \"sample1.txt\", \"CoursesOpted.txt\" )"
   ]
  },
  {
   "cell_type": "code",
   "execution_count": null,
   "metadata": {},
   "outputs": [],
   "source": [
    "import os\n",
    "# Delete file CoursesOpted.txt\n",
    "os.remove(\"CoursesOpted.txt\")"
   ]
  },
  {
   "cell_type": "markdown",
   "metadata": {},
   "source": [
    "###### Question 5:\n",
    "1. Create a folder\n",
    "2. Goto that folder and create 5 no.of files\n",
    "3. All the file names should be unique\n",
    "4. Add some content into the file and the content in all the files should be unique\n",
    "5. File size should be 512bits"
   ]
  },
  {
   "cell_type": "code",
   "execution_count": null,
   "metadata": {},
   "outputs": [],
   "source": [
    "import os\n",
    "os.mkdir(\"python\")#creating a folder\n",
    "for i in range(5):#for creating 5 files\n",
    "    file_name = \" \"#creating a file name\n",
    "    f = open(\"c://python//file name\",\"a\")#creates a file with the given name\n",
    "    for i in range(512):#adding content\n",
    "        f.write(\"character\")"
   ]
  },
  {
   "cell_type": "code",
   "execution_count": null,
   "metadata": {},
   "outputs": [],
   "source": []
  },
  {
   "cell_type": "code",
   "execution_count": null,
   "metadata": {},
   "outputs": [],
   "source": []
  },
  {
   "cell_type": "code",
   "execution_count": null,
   "metadata": {},
   "outputs": [],
   "source": []
  },
  {
   "cell_type": "code",
   "execution_count": null,
   "metadata": {},
   "outputs": [],
   "source": []
  }
 ],
 "metadata": {
  "kernelspec": {
   "display_name": "Python 3",
   "language": "python",
   "name": "python3"
  },
  "language_info": {
   "codemirror_mode": {
    "name": "ipython",
    "version": 3
   },
   "file_extension": ".py",
   "mimetype": "text/x-python",
   "name": "python",
   "nbconvert_exporter": "python",
   "pygments_lexer": "ipython3",
   "version": "3.7.4"
  }
 },
 "nbformat": 4,
 "nbformat_minor": 2
}
